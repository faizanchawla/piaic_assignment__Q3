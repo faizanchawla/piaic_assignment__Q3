{
 "cells": [
  {
   "cell_type": "markdown",
   "id": "3a1f1378",
   "metadata": {},
   "source": [
    "# Assignment:"
   ]
  },
  {
   "cell_type": "code",
   "execution_count": 1,
   "id": "441db9e3",
   "metadata": {},
   "outputs": [
    {
     "name": "stdout",
     "output_type": "stream",
     "text": [
      "Be Positive\n"
     ]
    }
   ],
   "source": [
    "msg = \"Be Positive\"\n",
    "print(msg)"
   ]
  },
  {
   "cell_type": "code",
   "execution_count": 3,
   "id": "fe5ce129",
   "metadata": {},
   "outputs": [
    {
     "name": "stdout",
     "output_type": "stream",
     "text": [
      "Albert Einstien said,\"A Person who never made mistakes never tried anythig new\"\n"
     ]
    }
   ],
   "source": [
    "quote = 'Albert Einstien said,\"A Person who never made mistakes never tried anythig new\"'\n",
    "print(quote)"
   ]
  },
  {
   "cell_type": "code",
   "execution_count": 8,
   "id": "b8ba4b99",
   "metadata": {},
   "outputs": [
    {
     "name": "stdout",
     "output_type": "stream",
     "text": [
      "Enter the radius of the circle: 0.5\n",
      "Area of Circle with Radius 0.5 is 0.7855\n"
     ]
    }
   ],
   "source": [
    "radius = float(input(\"Enter the radius of the circle: \"))\n",
    "area = 3.142 * radius * radius\n",
    "print(\"Area of Circle with Radius\",radius,\"is\",area)"
   ]
  },
  {
   "cell_type": "code",
   "execution_count": 10,
   "id": "16504e25",
   "metadata": {},
   "outputs": [
    {
     "name": "stdout",
     "output_type": "stream",
     "text": [
      "Enter any Number: 5\n",
      "Positive Number Entered\n"
     ]
    }
   ],
   "source": [
    "num = int(input(\"Enter any Number: \"))\n",
    "if num > 0:\n",
    "    print(\"Positive Number Entered\")\n",
    "elif num < 0:\n",
    "        print(\"Negative Number Entered\")\n",
    "else:\n",
    "    print(\"Zero Entered\")"
   ]
  },
  {
   "cell_type": "code",
   "execution_count": 12,
   "id": "00d0f95c",
   "metadata": {},
   "outputs": [
    {
     "name": "stdout",
     "output_type": "stream",
     "text": [
      "Enter any Characterc\n",
      "letter c is not a vowel\n"
     ]
    }
   ],
   "source": [
    "vowel = (\"a\",\"e\",\"i\",\"o\",\"u\")\n",
    "alp_check = str(input(\"Enter any Character\"))\n",
    "a = alp_check.lower()\n",
    "for i in vowel:\n",
    "    if a == i:\n",
    "        print(\"letter\",alp_check,\"is a vowel\")\n",
    "        break\n",
    "    else:\n",
    "        print(\"letter\",alp_check,\"is not a vowel\")\n",
    "        break\n"
   ]
  },
  {
   "cell_type": "code",
   "execution_count": 13,
   "id": "c8fd57ca",
   "metadata": {},
   "outputs": [
    {
     "name": "stdout",
     "output_type": "stream",
     "text": [
      "Enter your height in centmeters: 180\n",
      "Enter your weight in kilograms: 75\n",
      "Your BMI is :  23.148148148148145\n"
     ]
    }
   ],
   "source": [
    "height = float(input(\"Enter your height in centmeters: \"))\n",
    "weight = float(input(\"Enter your weight in kilograms: \"))\n",
    "height = height / 100\n",
    "BMI = weight / (height * height)\n",
    "print(\"Your BMI is : \", BMI)"
   ]
  },
  {
   "cell_type": "code",
   "execution_count": 14,
   "id": "5d54bf50",
   "metadata": {},
   "outputs": [
    {
     "name": "stdout",
     "output_type": "stream",
     "text": [
      "Taha\n",
      "Muhib\n",
      "Osama\n",
      "Zayyan\n",
      "Wahaj\n"
     ]
    }
   ],
   "source": [
    "names = [\"Taha\", \"Muhib\", \"Osama\", \"Zayyan\", \"Wahaj\"]\n",
    "for i in names:\n",
    "    print(i)"
   ]
  },
  {
   "cell_type": "code",
   "execution_count": 15,
   "id": "eb111083",
   "metadata": {},
   "outputs": [
    {
     "name": "stdout",
     "output_type": "stream",
     "text": [
      "Hello Taha\n",
      "Hello Muhib\n",
      "Hello Osama\n",
      "Hello Zayyan\n",
      "Hello Wahaj\n"
     ]
    }
   ],
   "source": [
    "names = [\"Taha\", \"Muhib\", \"Osama\", \"Zayyan\", \"Wahaj\"]\n",
    "msg = \"Hello\"\n",
    "for i in names:\n",
    "    print(msg, i)"
   ]
  },
  {
   "cell_type": "code",
   "execution_count": 16,
   "id": "6ce66df4",
   "metadata": {},
   "outputs": [
    {
     "name": "stdout",
     "output_type": "stream",
     "text": [
      "the first three items from that list are:  ['Pizza', 'Burger', 'Biryani']\n",
      "the first three items from that list are:  ['Pulao', 'BBQ', 'Karahi']\n",
      "the first three items from that list are:  ['Fish', 'Nihari', 'Daal']\n"
     ]
    }
   ],
   "source": [
    "foods = [\"Pizza\", \"Burger\", \"Biryani\", \"Pulao\", \"BBQ\", \"Karahi\", \"Fish\", \"Nihari\", \"Daal\"]\n",
    "print(\"the first three items from that list are: \", foods[:3])\n",
    "print(\"the first three items from that list are: \", foods[3:6])\n",
    "print(\"the first three items from that list are: \", foods[6:9])"
   ]
  },
  {
   "cell_type": "code",
   "execution_count": 20,
   "id": "fbf94666",
   "metadata": {},
   "outputs": [
    {
     "name": "stdout",
     "output_type": "stream",
     "text": [
      "The lists are not same\n",
      "My favourite Foods are:  Pizza\n",
      "My favourite Foods are:  Burger\n",
      "My favourite Foods are:  Biryani\n",
      "My favourite Foods are:  Pulao\n",
      "My favourite Foods are:  BBQ\n",
      "My favourite Foods are:  Karahi\n",
      "My favourite Foods are:  Fish\n",
      "My favourite Foods are:  Nihari\n",
      "My favourite Foods are:  Daal\n",
      "My favourite Foods are:  Fried prawns\n",
      "\n",
      "My Friend's favourite Foods are:  Pizza\n",
      "My Friend's favourite Foods are:  Burger\n",
      "My Friend's favourite Foods are:  Biryani\n",
      "My Friend's favourite Foods are:  Pulao\n",
      "My Friend's favourite Foods are:  BBQ\n",
      "My Friend's favourite Foods are:  Karahi\n",
      "My Friend's favourite Foods are:  Fish\n",
      "My Friend's favourite Foods are:  Nihari\n",
      "My Friend's favourite Foods are:  Daal\n",
      "My Friend's favourite Foods are:  Andai Wala Burger\n"
     ]
    }
   ],
   "source": [
    "foods = [\"Pizza\", \"Burger\", \"Biryani\", \"Pulao\", \"BBQ\", \"Karahi\", \"Fish\", \"Nihari\", \"Daal\"]\n",
    "friends_foods = [\"Pizza\", \"Burger\", \"Biryani\", \"Pulao\", \"BBQ\", \"Karahi\", \"Fish\", \"Nihari\", \"Daal\"]\n",
    "foods.append(\"Fried prawns\")\n",
    "friends_foods.append(\"Andai Wala Burger\")\n",
    "\n",
    "if foods == friends_foods:\n",
    "    print(\"The Lists are same\")\n",
    "else:\n",
    "    print(\"The lists are not same\")\n",
    "    \n",
    "for i in foods:\n",
    "    print(\"My favourite Foods are: \",i)\n",
    "\n",
    "print(\"\")\n",
    "for i in friends_foods:\n",
    "    print(\"My Friend's favourite Foods are: \",i)"
   ]
  },
  {
   "cell_type": "code",
   "execution_count": null,
   "id": "e4df0f7c",
   "metadata": {},
   "outputs": [],
   "source": []
  }
 ],
 "metadata": {
  "kernelspec": {
   "display_name": "Python 3 (ipykernel)",
   "language": "python",
   "name": "python3"
  },
  "language_info": {
   "codemirror_mode": {
    "name": "ipython",
    "version": 3
   },
   "file_extension": ".py",
   "mimetype": "text/x-python",
   "name": "python",
   "nbconvert_exporter": "python",
   "pygments_lexer": "ipython3",
   "version": "3.9.7"
  }
 },
 "nbformat": 4,
 "nbformat_minor": 5
}
